{
 "cells": [
  {
   "cell_type": "code",
   "execution_count": 20,
   "metadata": {},
   "outputs": [],
   "source": [
    "import numpy as np\n",
    "import pandas as pd"
   ]
  },
  {
   "cell_type": "code",
   "execution_count": 27,
   "metadata": {},
   "outputs": [
    {
     "name": "stdout",
     "output_type": "stream",
     "text": [
      "Samples of x. [-3.28997626 -9.90657769]\n",
      "Sigma matrices: [array([[1., 0., 0., 0.],\n",
      "       [0., 1., 0., 0.],\n",
      "       [0., 0., 1., 0.],\n",
      "       [0., 0., 0., 1.]]), array([[2., 0., 0., 0.],\n",
      "       [0., 2., 0., 0.],\n",
      "       [0., 0., 2., 0.],\n",
      "       [0., 0., 0., 2.]])]\n",
      "Shape of x: (2,)\n",
      "Shape of replicates: (2, 4)\n",
      "Shape of response: (2,)\n"
     ]
    }
   ],
   "source": [
    "import numpy as np\n",
    "import pandas as pd\n",
    "\n",
    "def generate_gaussian_data(n, M=3, c_u=0.8):\n",
    "    \n",
    "    # M equals the number of replicates\n",
    "    # c_u being the number of covariance between replicates\n",
    "    \n",
    "    # Sample values for true covariate\n",
    "    x = np.random.normal(loc=0, scale=5, size=n)\n",
    "    print(f\"Samples of x. {x}\")\n",
    "    \n",
    "    # Generate covariance matrices\n",
    "    def create_sigma_me(dim_sigma_me, c_u):\n",
    "        Sigma_me = np.zeros((dim_sigma_me, dim_sigma_me))\n",
    "        for i in range(dim_sigma_me):\n",
    "            for j in range(dim_sigma_me):\n",
    "                if i == j:\n",
    "                    Sigma_me[i, j] = 1\n",
    "                else:\n",
    "                    Sigma_me[i, j] = c_u\n",
    "        return Sigma_me\n",
    "    \n",
    "    # Scale the Sigma_me matrices by individual variance factor\n",
    "    sigma_matrices = []\n",
    "    for i in range(n):\n",
    "        sigma_sq_ui = 1 if i < n // 2 else 2  # First half scaled by 1, second half by 2\n",
    "        Sigma_me = create_sigma_me(M, c_u)\n",
    "        scaled_matrix = sigma_sq_ui * Sigma_me\n",
    "        sigma_matrices.append(scaled_matrix)\n",
    "    print(f\"Sigma matrices: {sigma_matrices}\")\n",
    "    \n",
    "    # Create M replicates of true variable x\n",
    "    replicates = []\n",
    "    for i in range(n):\n",
    "        # The mean vector will be [x[i], x[i], x[i]]\n",
    "        mean_vector = np.repeat(x[i], M)\n",
    "        \n",
    "        # Get the covariance matrix for the current sample\n",
    "        Sigma_me = sigma_matrices[i]\n",
    "        \n",
    "        # Generate the 3 replicates from the multivariate Gaussian\n",
    "        samples = np.random.multivariate_normal(mean_vector, Sigma_me)\n",
    "        replicates.append(samples)\n",
    "    \n",
    "    # Generate response variable y\n",
    "    #\n",
    "    variances = np.random.choice([0.3, 0.5], size=n)\n",
    "    y = np.random.normal(loc=np.sin(x), scale=np.sqrt(variances))\n",
    "    \n",
    "    # Return replicates and response\n",
    "    return x, np.array(replicates), y\n",
    "\n",
    "# Usage\n",
    "x, replicates, y = generate_gaussian_data(n=2, M=4, c_u=0)\n",
    "\n",
    "print(f\"Shape of x: {x.shape}\")\n",
    "print(f\"Shape of replicates: {replicates.shape}\")\n",
    "print(f\"Shape of response: {y.shape}\")\n"
   ]
  }
 ],
 "metadata": {
  "kernelspec": {
   "display_name": "Python 3",
   "language": "python",
   "name": "python3"
  },
  "language_info": {
   "codemirror_mode": {
    "name": "ipython",
    "version": 3
   },
   "file_extension": ".py",
   "mimetype": "text/x-python",
   "name": "python",
   "nbconvert_exporter": "python",
   "pygments_lexer": "ipython3",
   "version": "3.11.1"
  }
 },
 "nbformat": 4,
 "nbformat_minor": 2
}
